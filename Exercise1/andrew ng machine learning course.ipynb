{
 "cells": [
  {
   "cell_type": "code",
   "execution_count": 1,
   "metadata": {},
   "outputs": [],
   "source": [
    "def hypothesis(theta,X):\n",
    "    h = np.dot(X,theta)\n",
    "    return h"
   ]
  },
  {
   "cell_type": "code",
   "execution_count": 2,
   "metadata": {},
   "outputs": [],
   "source": [
    "def cost_function(theta,m,X,y):\n",
    "    h = hypothesis(theta,X)\n",
    "    J = (1/(2*m))*sum((h-y)**2)\n",
    "    return J"
   ]
  },
  {
   "cell_type": "code",
   "execution_count": 7,
   "metadata": {},
   "outputs": [],
   "source": [
    "def gradient_descent(theta,X,y,m,alpha,epochs):\n",
    "    temp = []\n",
    "    cost = []\n",
    "    h = hypothesis(theta,X)\n",
    "    theta_0 = (1/m)*sum((h-y)**2)\n",
    "    for i in range(len(epochs)):\n",
    "        J = cost_function(theta,m,X,y)\n",
    "        for j in range(X.shape[-1]):\n",
    "            theta = theta[j]-(1/m)*sum(((h-y)**2)*X)\n",
    "            temp.append(theta)\n",
    "        cost.append(J)\n",
    "        theta[:] = temp    \n",
    "    return  theta, cost       "
   ]
  },
  {
   "cell_type": "code",
   "execution_count": null,
   "metadata": {},
   "outputs": [],
   "source": [
    "#you can use a dictionary to store the variables then unpack it\n",
    "#or a class that has all those attributes"
   ]
  }
 ],
 "metadata": {
  "kernelspec": {
   "display_name": "Python 3",
   "language": "python",
   "name": "python3"
  },
  "language_info": {
   "codemirror_mode": {
    "name": "ipython",
    "version": 3
   },
   "file_extension": ".py",
   "mimetype": "text/x-python",
   "name": "python",
   "nbconvert_exporter": "python",
   "pygments_lexer": "ipython3",
   "version": "3.7.3"
  }
 },
 "nbformat": 4,
 "nbformat_minor": 2
}
